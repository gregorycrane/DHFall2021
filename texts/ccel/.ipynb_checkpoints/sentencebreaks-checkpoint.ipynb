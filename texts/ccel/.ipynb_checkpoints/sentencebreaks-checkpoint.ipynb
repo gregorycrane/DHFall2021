{
 "cells": [
  {
   "cell_type": "code",
   "execution_count": 20,
   "metadata": {},
   "outputs": [],
   "source": [
    "import re\n",
    "\n",
    "f = open('../bury-all.xml')\n",
    "outf = open('bury-quote.xml','w')\n",
    "inquote = 0\n",
    "newquote = 0\n",
    "for l in f:\n",
    "    if(not re.search('<s xm',l)):\n",
    "        print(l,end='',file=outf)\n",
    "        continue\n",
    "    workl = l \n",
    "    wasinquote = inquote\n",
    "    while(re.search('(</quote|<quote)',workl)):\n",
    "        \n",
    "        m = re.search('(</quote|<quote)',workl)\n",
    "        curtag = m[1]\n",
    "        if(curtag == '<quote'):\n",
    "            inquote = inquote + 1\n",
    "            #print('equote',inquote,workl)\n",
    "            \n",
    "        if(curtag == '</quote'):\n",
    "            inquote = inquote - 1\n",
    "            #print('xquote',inquote,workl)\n",
    "        workl = re.sub('(</quote|<quote)','',workl,1)\n",
    "        \n",
    "\n",
    "    if(inquote and not wasinquote):\n",
    "        l = re.sub('(<s [^>]+)/(>.+)','\\g<1>\\g<2></quote></s>',l)\n",
    "    if(inquote and  wasinquote):\n",
    "        l = re.sub('(<s [^>]+)/(>.+)','\\g<1>><quote n=\"cont\"\\g<2></quote></s>',l)\n",
    "    if(not inquote and wasinquote):\n",
    "        l = re.sub('(<s [^>]+)/(>.+)','\\g<1>><quote n=\"cont\"\\g<2></s>',l)\n",
    "    if(not inquote and not wasinquote):\n",
    "        l = re.sub('(<s [^>]+)/(>.+)','\\g<1>\\g<2></s>',l)\n",
    "\n",
    "#    if(sqcnt == eqcnt):\n",
    " #       l = re.sub('(<s [^>]+)/(>.+)','\\g<1>\\g<2></s>',l)\n",
    "    #if(inquote or wasinquote):\n",
    "   #     print('openquote',wasinquote,inquote,l)\n",
    "\n",
    "    l = re.sub('\\s+(</quote>|</s>)','\\g<1>',l)\n",
    "    print(l,end='',file=outf)\n",
    "\n",
    "f.close()\n",
    "outf.close()"
   ]
  },
  {
   "cell_type": "code",
   "execution_count": 2,
   "metadata": {},
   "outputs": [
    {
     "data": {
      "text/plain": [
       "0"
      ]
     },
     "execution_count": 2,
     "metadata": {},
     "output_type": "execute_result"
    }
   ],
   "source": [
    "6 % 2 "
   ]
  },
  {
   "cell_type": "code",
   "execution_count": null,
   "metadata": {},
   "outputs": [],
   "source": []
  }
 ],
 "metadata": {
  "kernelspec": {
   "display_name": "Python 3",
   "language": "python",
   "name": "python3"
  },
  "language_info": {
   "codemirror_mode": {
    "name": "ipython",
    "version": 3
   },
   "file_extension": ".py",
   "mimetype": "text/x-python",
   "name": "python",
   "nbconvert_exporter": "python",
   "pygments_lexer": "ipython3",
   "version": "3.8.1"
  }
 },
 "nbformat": 4,
 "nbformat_minor": 4
}
