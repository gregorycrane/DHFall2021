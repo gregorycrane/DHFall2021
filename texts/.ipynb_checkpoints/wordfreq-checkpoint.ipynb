{
 "cells": [
  {
   "cell_type": "code",
   "execution_count": 6,
   "metadata": {},
   "outputs": [
    {
     "name": "stdout",
     "output_type": "stream",
     "text": [
      "K065082.001.xml          K065858.001.xml          declineandfall03-gut.txt\r\n",
      "K065082.002.xml          README.md                declineandfall04-gut.txt\r\n",
      "K065082.003.xml          ammianus-eng-gut.txt     declineandfall05-gut.txt\r\n",
      "K065082.004.xml          declineandfall-gut.txt   declineandfall06-gut.txt\r\n",
      "K065082.005.xml          declineandfall01-gut.txt wealthofnations-gut.txt\r\n",
      "K065082.006.xml          declineandfall02-gut.txt wordfreq.ipynb\r\n",
      "\r\n",
      "robertson-william:\r\n",
      "the-works-of-william-robertson-vol-1-the-history-of-scotland-vol-1.html\r\n",
      "the-works-of-william-robertson-vol-2-the-history-of-scotland-vol-2.html\r\n",
      "the-works-of-william-robertson-vol-3-a-view-of-the-progress-of-society-in-europe-and-the-history-of-the-reign-of-the-emperor-charles-v-book-1.html\r\n",
      "the-works-of-william-robertson-vol-4-the-history-of-the-reign-of-the-emperor-charles-v-books-2-7.html\r\n",
      "the-works-of-william-robertson-vol-5-the-history-of-the-reign-of-the-emperor-charles-v-books-8-12.html\r\n",
      "the-works-of-william-robertson-vol-6-a-catalogue-of-spanish-books-and-manuscripts-and-the-history-of-america-books-1-4.html\r\n",
      "the-works-of-william-robertson-vol-7-the-history-of-america-books-5-8.html\r\n",
      "the-works-of-william-robertson-vol-8-the-history-of-america-books-9-10-an-historical-disquisition-concerning-ancient-india.html\r\n"
     ]
    }
   ],
   "source": [
    "!ls *"
   ]
  },
  {
   "cell_type": "code",
   "execution_count": 1,
   "metadata": {},
   "outputs": [
    {
     "name": "stdout",
     "output_type": "stream",
     "text": [
      "\n",
      "bury-all.xml\n",
      "1745811 running words read\n"
     ]
    }
   ],
   "source": [
    "import re\n",
    "\n",
    "def countwords(fname):\n",
    "    f = open(fname)\n",
    "    print()\n",
    "    print(fname)\n",
    "    totwords = 0\n",
    "    wordlist = {}\n",
    "    bigrams = {}\n",
    "    prevword = ''\n",
    "    totpnouns = 0\n",
    "    for l in f:\n",
    "        #l = re.sub('<[^>]+>',' ',l)\n",
    "        l = re.sub('(Hist|Mr|Dr|Bibliot|Script|St)\\.\\\\s+([A-Z])','\\g<1>_\\g<2>',l)\n",
    "        if(re.search('XHist\\.',l)):\n",
    "            print(l,end='')\n",
    "        l = re.sub('[\\.;,:\"\\(\\)]',' ',l)\n",
    "        words = l.split()\n",
    "        \n",
    "        for foo in words:\n",
    "            totwords = totwords + 1\n",
    "            if( re.search('^[A-Z]',foo)):\n",
    "                totpnouns = totpnouns + 1\n",
    "            if( foo in wordlist):\n",
    "                wordlist[foo] = wordlist[foo] + 1\n",
    "            else:\n",
    "                wordlist[foo] = 1\n",
    "            bigram = prevword + ' ' + foo\n",
    "            if( bigram in bigrams):\n",
    "                bigrams[bigram] = 1 + bigrams[bigram]\n",
    "            else:\n",
    "                bigrams[bigram] = 1 \n",
    "            prevword = foo\n",
    "    f.close()\n",
    "\n",
    "    i = 0\n",
    "    print(totwords,\"running words read\")\n",
    "    outfname = re.sub('\\.txt','-out.txt',fname)\n",
    "    outf = open(outfname,'w')\n",
    "    pnounssofar = 0\n",
    "    for foo in sorted(wordlist,key=wordlist.get,reverse=True):\n",
    "        if(  not re.search('^[A-Z]',foo) or  foo.lower() in wordlist):\n",
    "            continue\n",
    "        #if(wordlist[foo] < 10):\n",
    "        i = i + 1\n",
    "        if(i>100):\n",
    "            continue\n",
    "        pnounssofar = wordlist[foo] + pnounssofar\n",
    "        #print(i,foo,totpnouns,pnounssofar,wordlist[foo],(wordlist[foo]*10000)/totwords,sep='\\t')\n",
    "        print(i,foo,totpnouns,pnounssofar,wordlist[foo],(wordlist[foo]*10000)/totwords,sep='\\t',file=outf)\n",
    "    outf.close()\n",
    "    return(wordlist)\n",
    "\n",
    "#resl = countwords('bury-all.xml')\n",
    "#res1 = countwords('declineandfall01-gut.txt')\n",
    "#res1 = countwords('declineandfall02-gut.txt')\n",
    "#res1 = countwords('declineandfall03-gut.txt')\n",
    "#res1 = countwords('declineandfall04-gut.txt')\n",
    "#res1 = countwords('declineandfall05-gut.txt')\n",
    "#res1 = countwords('declineandfall06-gut.txt')\n",
    "#res1 = countwords('declineandfall-gut.txt')\n",
    "#res1 = countwords('robertson-william/robertson1.txt')\n",
    "#res1 = countwords('declineandfall01-gut.txt')\n",
    "#res1 = countwords('ammianus-eng-gut.txt')\n",
    "\n",
    "#res1 = countwords('declineandfall02-gut.txt')\n",
    "#res1 = countwords('declineandfall03-gut.txt')\n",
    "#res1 = countwords('declineandfall04-gut.txt')\n",
    "#res1 = countwords('declineandfall05-gut.txt')\n",
    "#res1 = countwords('declineandfall06-gut.txt')\n",
    "#res1 = countwords('wealthofnations-gut.txt')\n"
   ]
  },
  {
   "cell_type": "code",
   "execution_count": null,
   "metadata": {},
   "outputs": [],
   "source": []
  }
 ],
 "metadata": {
  "kernelspec": {
   "display_name": "Python 3",
   "language": "python",
   "name": "python3"
  },
  "language_info": {
   "codemirror_mode": {
    "name": "ipython",
    "version": 3
   },
   "file_extension": ".py",
   "mimetype": "text/x-python",
   "name": "python",
   "nbconvert_exporter": "python",
   "pygments_lexer": "ipython3",
   "version": "3.8.1"
  }
 },
 "nbformat": 4,
 "nbformat_minor": 4
}
